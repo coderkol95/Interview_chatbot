{
 "cells": [
  {
   "cell_type": "code",
   "execution_count": 3,
   "source": [
    "import pandas as pd\r\n",
    "\r\n",
    "uploaded_excel = pd.read_csv(r\"C:/Users/ADMIN/Documents/Codebase/Interview_chatbot/format.csv\")\r\n"
   ],
   "outputs": [
    {
     "output_type": "stream",
     "name": "stderr",
     "text": [
      "c:\\Users\\ADMIN\\Documents\\Codebase\\envs\\machine_L\\lib\\site-packages\\numpy\\_distributor_init.py:30: UserWarning: loaded more than 1 DLL from .libs:\n",
      "c:\\Users\\ADMIN\\Documents\\Codebase\\envs\\machine_L\\lib\\site-packages\\numpy\\.libs\\libopenblas.GK7GX5KEQ4F6UYO3P26ULGBQYHGQO7J4.gfortran-win_amd64.dll\n",
      "c:\\Users\\ADMIN\\Documents\\Codebase\\envs\\machine_L\\lib\\site-packages\\numpy\\.libs\\libopenblas.XWYDX2IKJW2NMTWSFYNGFUWKQU3LYTCZ.gfortran-win_amd64.dll\n",
      "  warnings.warn(\"loaded more than 1 DLL from .libs:\"\n"
     ]
    }
   ],
   "metadata": {}
  },
  {
   "cell_type": "code",
   "execution_count": 2,
   "source": [
    "def formatter(dataf):\r\n",
    "    dataf.fillna('No', inplace=True)\r\n",
    "    for i in range(len(dataf)):\r\n",
    "        for col in dataf.columns[1:]:\r\n",
    "            dataf[col][i] = col if dataf[col][i]=='Yes' else ''\r\n",
    "    emails = dataf.Email.tolist()\r\n",
    "    topics={}\r\n",
    "    for i in range(dataf.shape[0]):\r\n",
    "        topics[emails[i]]=[x for x in dataf.iloc[i].tolist()[1:] if x!='']\r\n",
    "    return emails, topics"
   ],
   "outputs": [],
   "metadata": {}
  },
  {
   "cell_type": "code",
   "execution_count": 4,
   "source": [
    "em, tp = formatter(uploaded_excel)"
   ],
   "outputs": [],
   "metadata": {}
  },
  {
   "cell_type": "code",
   "execution_count": 5,
   "source": [
    "tp"
   ],
   "outputs": [
    {
     "output_type": "execute_result",
     "data": {
      "text/plain": [
       "{'anupam.misra@praxis.ac.in': ['Statistics', 'SVM', 'Naïve Bayes'],\n",
       " 'shahrukh.gouhar@praxis.ac.in': ['Statistics',\n",
       "  'Linear Regression',\n",
       "  'Logistic Regression'],\n",
       " 'radha.rathore@praxis.ac.in': ['Statistics', 'Decision Tree'],\n",
       " 'mansoor.ali.shaik@praxis.ac.in': ['Statistics', 'KNN', 'Kmeans']}"
      ]
     },
     "metadata": {},
     "execution_count": 5
    }
   ],
   "metadata": {}
  },
  {
   "cell_type": "code",
   "execution_count": 6,
   "source": [
    "em"
   ],
   "outputs": [
    {
     "output_type": "execute_result",
     "data": {
      "text/plain": [
       "['anupam.misra@praxis.ac.in',\n",
       " 'shahrukh.gouhar@praxis.ac.in',\n",
       " 'radha.rathore@praxis.ac.in',\n",
       " 'mansoor.ali.shaik@praxis.ac.in']"
      ]
     },
     "metadata": {},
     "execution_count": 6
    }
   ],
   "metadata": {}
  },
  {
   "cell_type": "code",
   "execution_count": null,
   "source": [],
   "outputs": [],
   "metadata": {}
  }
 ],
 "metadata": {
  "orig_nbformat": 4,
  "language_info": {
   "name": "python",
   "version": "3.9.5",
   "mimetype": "text/x-python",
   "codemirror_mode": {
    "name": "ipython",
    "version": 3
   },
   "pygments_lexer": "ipython3",
   "nbconvert_exporter": "python",
   "file_extension": ".py"
  },
  "kernelspec": {
   "name": "python3",
   "display_name": "Python 3.9.5 64-bit ('machine_L': venv)"
  },
  "interpreter": {
   "hash": "62a490a61034db1e8b6e05e6e999b5629625384177f9d8186b44b788547d5428"
  }
 },
 "nbformat": 4,
 "nbformat_minor": 2
}