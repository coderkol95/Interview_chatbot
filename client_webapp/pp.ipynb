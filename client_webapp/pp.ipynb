{
 "cells": [
  {
   "cell_type": "code",
   "execution_count": 1,
   "metadata": {},
   "outputs": [],
   "source": [
    "import MySQLdb\n",
    "import pandas as pd\n",
    "hostName = 'db4free.net'      \n",
    "userName = 'udreedbczu'          \n",
    "passWord = 'ezcb9vazqz'           \n",
    "dbName =  userName                \n",
    "DBConn= MySQLdb.connect(hostName,userName,passWord,dbName)"
   ]
  },
  {
   "cell_type": "code",
   "execution_count": 2,
   "metadata": {},
   "outputs": [],
   "source": [
    "def runCMD (DDL):\n",
    "    \n",
    "    \"\"\"\n",
    "\n",
    "    MySQL function for CUD of CRUD\n",
    "\n",
    "    \"\"\"\n",
    "\n",
    "    DBConn= MySQLdb.connect(hostName,userName,passWord,dbName)\n",
    "    myCursor = DBConn.cursor()\n",
    "    retcode = myCursor.execute(DDL) \n",
    "    print (retcode)\n",
    "    DBConn.commit()\n",
    "    DBConn.close()\n",
    "\n",
    "def runSELECT (CMD):\n",
    "    \n",
    "    \"\"\"\n",
    "\n",
    "    MySQL function for R of CRUD\n",
    "\n",
    "    \"\"\"\n",
    "\n",
    "    DBConn= MySQLdb.connect(hostName,userName,passWord,dbName)\n",
    "    df_mysql = pd.read_sql(CMD, con=DBConn)    \n",
    "    DBConn.close()\n",
    "    return df_mysql\n",
    "\n",
    "def r(msg):\n",
    "    \n",
    "    \"\"\"\n",
    "\n",
    "    This function automatically routes all SQL operations to runCMD or runSELECT automatically\n",
    "    \n",
    "    \"\"\"\n",
    "    \n",
    "    if msg[0:6]==\"SELECT\" or msg[0:6]==\"select\":\n",
    "        return runSELECT(msg)\n",
    "    else:\n",
    "        runCMD(msg)\n"
   ]
  },
  {
   "cell_type": "code",
   "execution_count": 6,
   "metadata": {},
   "outputs": [
    {
     "data": {
      "text/html": [
       "<div>\n",
       "<style scoped>\n",
       "    .dataframe tbody tr th:only-of-type {\n",
       "        vertical-align: middle;\n",
       "    }\n",
       "\n",
       "    .dataframe tbody tr th {\n",
       "        vertical-align: top;\n",
       "    }\n",
       "\n",
       "    .dataframe thead th {\n",
       "        text-align: right;\n",
       "    }\n",
       "</style>\n",
       "<table border=\"1\" class=\"dataframe\">\n",
       "  <thead>\n",
       "    <tr style=\"text-align: right;\">\n",
       "      <th></th>\n",
       "      <th>userid</th>\n",
       "      <th>saved_date</th>\n",
       "      <th>Category</th>\n",
       "      <th>Scores_Obtained</th>\n",
       "      <th>MaxMarks</th>\n",
       "    </tr>\n",
       "  </thead>\n",
       "  <tbody>\n",
       "    <tr>\n",
       "      <th>0</th>\n",
       "      <td>anupam.misra@praxis.ac.in</td>\n",
       "      <td>2021-10-20</td>\n",
       "      <td>Linear Regression, Logistic Regression, Statis...</td>\n",
       "      <td>100.0</td>\n",
       "      <td>150</td>\n",
       "    </tr>\n",
       "    <tr>\n",
       "      <th>1</th>\n",
       "      <td>radha.rathore@praxis.ac.in</td>\n",
       "      <td>2021-10-22</td>\n",
       "      <td>SVM, Decision Tree, Naive Bayes</td>\n",
       "      <td>92.0</td>\n",
       "      <td>150</td>\n",
       "    </tr>\n",
       "    <tr>\n",
       "      <th>2</th>\n",
       "      <td>geetha.joseph@praxis.ac.in</td>\n",
       "      <td>2021-10-23</td>\n",
       "      <td>KMeans, Logistic Regression, Decision Tree, St...</td>\n",
       "      <td>176.0</td>\n",
       "      <td>200</td>\n",
       "    </tr>\n",
       "    <tr>\n",
       "      <th>3</th>\n",
       "      <td>ashwin.kumar@praxis.ac.in</td>\n",
       "      <td>2021-10-22</td>\n",
       "      <td>KNN, Naive Bayes</td>\n",
       "      <td>68.0</td>\n",
       "      <td>100</td>\n",
       "    </tr>\n",
       "    <tr>\n",
       "      <th>4</th>\n",
       "      <td>yash.aswani@praxis.ac.in</td>\n",
       "      <td>2021-10-25</td>\n",
       "      <td>Statistics, Logistic Regression, KNN, SVM</td>\n",
       "      <td>112.0</td>\n",
       "      <td>200</td>\n",
       "    </tr>\n",
       "  </tbody>\n",
       "</table>\n",
       "</div>"
      ],
      "text/plain": [
       "                       userid  saved_date  \\\n",
       "0   anupam.misra@praxis.ac.in  2021-10-20   \n",
       "1  radha.rathore@praxis.ac.in  2021-10-22   \n",
       "2  geetha.joseph@praxis.ac.in  2021-10-23   \n",
       "3   ashwin.kumar@praxis.ac.in  2021-10-22   \n",
       "4    yash.aswani@praxis.ac.in  2021-10-25   \n",
       "\n",
       "                                            Category  Scores_Obtained  \\\n",
       "0  Linear Regression, Logistic Regression, Statis...            100.0   \n",
       "1                    SVM, Decision Tree, Naive Bayes             92.0   \n",
       "2  KMeans, Logistic Regression, Decision Tree, St...            176.0   \n",
       "3                                   KNN, Naive Bayes             68.0   \n",
       "4          Statistics, Logistic Regression, KNN, SVM            112.0   \n",
       "\n",
       "   MaxMarks  \n",
       "0       150  \n",
       "1       150  \n",
       "2       200  \n",
       "3       100  \n",
       "4       200  "
      ]
     },
     "execution_count": 6,
     "metadata": {},
     "output_type": "execute_result"
    }
   ],
   "source": [
    "r('select * from overall_Scores')"
   ]
  },
  {
   "cell_type": "code",
   "execution_count": 24,
   "metadata": {},
   "outputs": [
    {
     "name": "stdout",
     "output_type": "stream",
     "text": [
      "2\n"
     ]
    }
   ],
   "source": [
    "r(\"delete from overall_Scores where Scores_Obtained=100\")"
   ]
  },
  {
   "cell_type": "code",
   "execution_count": 26,
   "metadata": {},
   "outputs": [
    {
     "name": "stdout",
     "output_type": "stream",
     "text": [
      "1\n"
     ]
    }
   ],
   "source": [
    "r('INSERT into overall_Scores(userid, saved_date, Category, Scores_Obtained, MaxMarks) VALUES(\"anupam.misra@praxis.ac.in\",\"2021-10-20\", \"Linear Regression, Logistic Regression, Statistics\", 100, 150 )')"
   ]
  },
  {
   "cell_type": "code",
   "execution_count": 5,
   "metadata": {},
   "outputs": [
    {
     "name": "stdout",
     "output_type": "stream",
     "text": [
      "1\n",
      "1\n",
      "1\n"
     ]
    }
   ],
   "source": [
    "# r('INSERT into overall_Scores(userid, saved_date, Category, Scores_Obtained, MaxMarks) VALUES(\"anupam.misra@praxis.ac.in\",\"2021-10-20\", \"Linear Regression, Logistic Regression, Statistics\", 100, 150 )')\n",
    "# r('INSERT into overall_Scores(userid, saved_date, Category, Scores_Obtained, MaxMarks) VALUES(\"sharukh.gouhar@praxis.ac.in\",\"2021-10-21\", \"KNN, SVM, Statistics\", 123, 150 )')\n",
    "# r('INSERT into overall_Scores(userid, saved_date, Category, Scores_Obtained, MaxMarks) VALUES(\"radha.rathore@praxis.ac.in\",\"2021-10-22\", \"SVM, Decision Tree, Naive Bayes\", 92, 150 )')\n",
    "# r('INSERT into overall_Scores(userid, saved_date, Category, Scores_Obtained, MaxMarks) VALUES(\"mansoor.ali.shaikh@praxis.ac.in\",\"2021-10-23\", \"Linear Regression, KNN, KMeans\", 77, 150 )')\n",
    "r('INSERT into overall_Scores(userid, saved_date, Category, Scores_Obtained, MaxMarks) VALUES(\"geetha.joseph@praxis.ac.in\",\"2021-10-23\", \"KMeans, Logistic Regression, Decision Tree, Statistics\", 176, 200 )')\n",
    "r('INSERT into overall_Scores(userid, saved_date, Category, Scores_Obtained, MaxMarks) VALUES(\"ashwin.kumar@praxis.ac.in\",\"2021-10-22\", \"KNN, Naive Bayes\", 68, 100 )')\n",
    "r('INSERT into overall_Scores(userid, saved_date, Category, Scores_Obtained, MaxMarks) VALUES(\"yash.aswani@praxis.ac.in\",\"2021-10-25\", \"Statistics, Logistic Regression, KNN, SVM\", 112, 200 )')"
   ]
  },
  {
   "cell_type": "code",
   "execution_count": null,
   "metadata": {},
   "outputs": [],
   "source": [
    "r('SELECT * from overall_Scores')"
   ]
  },
  {
   "cell_type": "code",
   "execution_count": null,
   "metadata": {},
   "outputs": [],
   "source": []
  }
 ],
 "metadata": {
  "interpreter": {
   "hash": "ecab1c3ed960d3fe088e3bb9feccacce4bcce3e681f9958ab6e8698e5c063f07"
  },
  "kernelspec": {
   "display_name": "Python 3.9.5 64-bit ('interview_chatbot': venv)",
   "name": "python3"
  },
  "language_info": {
   "codemirror_mode": {
    "name": "ipython",
    "version": 3
   },
   "file_extension": ".py",
   "mimetype": "text/x-python",
   "name": "python",
   "nbconvert_exporter": "python",
   "pygments_lexer": "ipython3",
   "version": "3.9.5"
  },
  "orig_nbformat": 4
 },
 "nbformat": 4,
 "nbformat_minor": 2
}
