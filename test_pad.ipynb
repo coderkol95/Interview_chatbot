{
 "cells": [
  {
   "cell_type": "markdown",
   "source": [
    "# Sending to multiple email IDS"
   ],
   "metadata": {}
  },
  {
   "cell_type": "code",
   "execution_count": 3,
   "source": [
    "import pandas as pd\r\n",
    "\r\n",
    "uploaded_excel = pd.read_csv(r\"C:/Users/ADMIN/Documents/Codebase/Interview_chatbot/format.csv\")\r\n"
   ],
   "outputs": [
    {
     "output_type": "stream",
     "name": "stderr",
     "text": [
      "c:\\Users\\ADMIN\\Documents\\Codebase\\envs\\machine_L\\lib\\site-packages\\numpy\\_distributor_init.py:30: UserWarning: loaded more than 1 DLL from .libs:\n",
      "c:\\Users\\ADMIN\\Documents\\Codebase\\envs\\machine_L\\lib\\site-packages\\numpy\\.libs\\libopenblas.GK7GX5KEQ4F6UYO3P26ULGBQYHGQO7J4.gfortran-win_amd64.dll\n",
      "c:\\Users\\ADMIN\\Documents\\Codebase\\envs\\machine_L\\lib\\site-packages\\numpy\\.libs\\libopenblas.XWYDX2IKJW2NMTWSFYNGFUWKQU3LYTCZ.gfortran-win_amd64.dll\n",
      "  warnings.warn(\"loaded more than 1 DLL from .libs:\"\n"
     ]
    }
   ],
   "metadata": {}
  },
  {
   "cell_type": "code",
   "execution_count": 2,
   "source": [
    "def formatter(dataf):\r\n",
    "    dataf.fillna('No', inplace=True)\r\n",
    "    for i in range(len(dataf)):\r\n",
    "        for col in dataf.columns[1:]:\r\n",
    "            dataf[col][i] = col if dataf[col][i]=='Yes' else ''\r\n",
    "    emails = dataf.Email.tolist()\r\n",
    "    topics={}\r\n",
    "    for i in range(dataf.shape[0]):\r\n",
    "        topics[emails[i]]=[x for x in dataf.iloc[i].tolist()[1:] if x!='']\r\n",
    "    return emails, topics"
   ],
   "outputs": [],
   "metadata": {}
  },
  {
   "cell_type": "code",
   "execution_count": 4,
   "source": [
    "em, tp = formatter(uploaded_excel)"
   ],
   "outputs": [],
   "metadata": {}
  },
  {
   "cell_type": "code",
   "execution_count": 22,
   "source": [
    "import datetime as DT\r\n",
    "today = \r\n",
    "deadline = (DT.date.today() + DT.timedelta(days=7)).strftime('%d-%m-%y')"
   ],
   "outputs": [
    {
     "output_type": "execute_result",
     "data": {
      "text/plain": [
       "'12 - 10 - 21'"
      ]
     },
     "metadata": {},
     "execution_count": 22
    }
   ],
   "metadata": {}
  },
  {
   "cell_type": "markdown",
   "source": [
    "# DB work"
   ],
   "metadata": {}
  },
  {
   "cell_type": "code",
   "execution_count": 2,
   "source": [
    "import MySQLdb\r\n",
    "import pandas as pd\r\n",
    "hostName = 'db4free.net'      \r\n",
    "userName = 'udreedbczu'          \r\n",
    "passWord = 'ezcb9vazqz'           \r\n",
    "dbName =  userName                \r\n",
    "DBConn= MySQLdb.connect(hostName,userName,passWord,dbName)\r\n",
    "def runCMD (DDL):\r\n",
    "    DBConn= MySQLdb.connect(hostName,userName,passWord,dbName)\r\n",
    "    myCursor = DBConn.cursor()\r\n",
    "    retcode = myCursor.execute(DDL) \r\n",
    "    print (retcode)\r\n",
    "    DBConn.commit()\r\n",
    "    DBConn.close()\r\n",
    "\r\n",
    "def runSELECT (CMD):\r\n",
    "    DBConn= MySQLdb.connect(hostName,userName,passWord,dbName)\r\n",
    "    df_mysql = pd.read_sql(CMD, con=DBConn)    \r\n",
    "    DBConn.close()\r\n",
    "    return df_mysql\r\n",
    "\r\n",
    "def r(msg):\r\n",
    "    if msg[0:6]==\"SELECT\" or msg[0:6]==\"select\":\r\n",
    "        return runSELECT(msg)\r\n",
    "    else:\r\n",
    "        runCMD(msg)"
   ],
   "outputs": [
    {
     "output_type": "stream",
     "name": "stderr",
     "text": [
      "c:\\Users\\ADMIN\\Documents\\Codebase\\envs\\machine_L\\lib\\site-packages\\numpy\\_distributor_init.py:30: UserWarning: loaded more than 1 DLL from .libs:\n",
      "c:\\Users\\ADMIN\\Documents\\Codebase\\envs\\machine_L\\lib\\site-packages\\numpy\\.libs\\libopenblas.GK7GX5KEQ4F6UYO3P26ULGBQYHGQO7J4.gfortran-win_amd64.dll\n",
      "c:\\Users\\ADMIN\\Documents\\Codebase\\envs\\machine_L\\lib\\site-packages\\numpy\\.libs\\libopenblas.XWYDX2IKJW2NMTWSFYNGFUWKQU3LYTCZ.gfortran-win_amd64.dll\n",
      "  warnings.warn(\"loaded more than 1 DLL from .libs:\"\n"
     ]
    }
   ],
   "metadata": {}
  },
  {
   "cell_type": "code",
   "execution_count": null,
   "source": [
    "# Client side; To store logins and their respective topics\r\n",
    "emailt='anupam@gmail'\r\n",
    "topics_for_printing='KNN, Decision Tree, SVM'\r\n",
    "r(f'INSERT into aspirant_topics(login,topics) VALUES (\"{emailt}\",\"{topics_for_printing}\")')"
   ],
   "outputs": [
    {
     "output_type": "stream",
     "name": "stdout",
     "text": [
      "1\n"
     ]
    }
   ],
   "metadata": {}
  },
  {
   "cell_type": "code",
   "execution_count": 7,
   "source": [
    "r(f\"select * from overall_Scores\")"
   ],
   "outputs": [
    {
     "output_type": "execute_result",
     "data": {
      "text/html": [
       "<div>\n",
       "<style scoped>\n",
       "    .dataframe tbody tr th:only-of-type {\n",
       "        vertical-align: middle;\n",
       "    }\n",
       "\n",
       "    .dataframe tbody tr th {\n",
       "        vertical-align: top;\n",
       "    }\n",
       "\n",
       "    .dataframe thead th {\n",
       "        text-align: right;\n",
       "    }\n",
       "</style>\n",
       "<table border=\"1\" class=\"dataframe\">\n",
       "  <thead>\n",
       "    <tr style=\"text-align: right;\">\n",
       "      <th></th>\n",
       "      <th>userid</th>\n",
       "      <th>saved_date</th>\n",
       "      <th>Category</th>\n",
       "      <th>Scores_Obtained</th>\n",
       "      <th>MaxMarks</th>\n",
       "    </tr>\n",
       "  </thead>\n",
       "  <tbody>\n",
       "    <tr>\n",
       "      <th>0</th>\n",
       "      <td>anupam.misra@praxis.ac.in</td>\n",
       "      <td>2021-10-04</td>\n",
       "      <td>Statistics</td>\n",
       "      <td>1.05712</td>\n",
       "      <td>10</td>\n",
       "    </tr>\n",
       "    <tr>\n",
       "      <th>1</th>\n",
       "      <td>shahrukh.gouhar@praxis.ac.in</td>\n",
       "      <td>2021-10-05</td>\n",
       "      <td>Statistics</td>\n",
       "      <td>51.93170</td>\n",
       "      <td>130</td>\n",
       "    </tr>\n",
       "  </tbody>\n",
       "</table>\n",
       "</div>"
      ],
      "text/plain": [
       "                         userid  saved_date    Category  Scores_Obtained  \\\n",
       "0     anupam.misra@praxis.ac.in  2021-10-04  Statistics          1.05712   \n",
       "1  shahrukh.gouhar@praxis.ac.in  2021-10-05  Statistics         51.93170   \n",
       "\n",
       "   MaxMarks  \n",
       "0        10  \n",
       "1       130  "
      ]
     },
     "metadata": {},
     "execution_count": 7
    }
   ],
   "metadata": {}
  },
  {
   "cell_type": "code",
   "execution_count": 47,
   "source": [
    "def dftolist(data):\r\n",
    "\r\n",
    "    list_of_dict=[]\r\n",
    "    cols = dataf.columns.tolist()\r\n",
    "    for i in range(dataf.shape[0]):\r\n",
    "        internal_dict={}\r\n",
    "        for j, val in enumerate(dataf.iloc[i,:].values):\r\n",
    "            internal_dict[cols[j]] = val\r\n",
    "        internal_dict['percentage'] = internal_dict['Scores_Obtained']/internal_dict['MaxMarks']\r\n",
    "        list_of_dict.append(internal_dict) \r\n",
    "    return list_of_dict"
   ],
   "outputs": [],
   "metadata": {}
  },
  {
   "cell_type": "code",
   "execution_count": 48,
   "source": [
    "dil= dftolist(dataj)"
   ],
   "outputs": [],
   "metadata": {}
  },
  {
   "cell_type": "code",
   "execution_count": 49,
   "source": [
    "dil"
   ],
   "outputs": [
    {
     "output_type": "execute_result",
     "data": {
      "text/plain": [
       "[{'login': 'anupam.misra@praxis.ac.in',\n",
       "  'topics': 'Statistics, Linear Regression, SVM, Naive Bayes'},\n",
       " {'login': 'anupammisra1995@gmail.com',\n",
       "  'topics': 'Statistics, Logistic Regression, Kmeans'},\n",
       " {'login': 'shahrukh.gouhar@praxis.ac.in',\n",
       "  'topics': 'Statistics, Linear Regression, Logistic Regression'}]"
      ]
     },
     "metadata": {},
     "execution_count": 49
    }
   ],
   "metadata": {}
  },
  {
   "cell_type": "markdown",
   "source": [
    "# Scorer"
   ],
   "metadata": {}
  },
  {
   "cell_type": "code",
   "execution_count": 1,
   "source": [
    "# from sentence_transformers import SentenceTransformer\r\n",
    "# from sklearn.metrics.pairwise import cosine_similarity\r\n",
    "# import pickle\r\n",
    "\r\n",
    "# bert = SentenceTransformer('bert-large-nli-stsb-mean-tokens')\r\n",
    "\r\n",
    "# with open(r'C:\\Users\\ADMIN\\Documents\\Codebase\\interview_chatbot\\aspirant_webapp\\count.pkl','rb') as f1:\r\n",
    "#     count = pickle.load(f1)\r\n",
    "\r\n",
    "# with open(r'C:\\Users\\ADMIN\\Documents\\Codebase\\interview_chatbot\\aspirant_webapp\\model.pkl','rb') as f2:\r\n",
    "#     model = pickle.load(f2)\r\n",
    "\r\n",
    "def scored(a,b,c,d):\r\n",
    "\r\n",
    "    BERT_dist = max(cosine_similarity(bert.encode([a]).reshape(1,-1), bert.encode([b]).reshape(1,-1))[0][0], \r\n",
    "    cosine_similarity(bert.encode([a]).reshape(1,-1), bert.encode([c]).reshape(1,-1))[0][0],\r\n",
    "    cosine_similarity(bert.encode([a]).reshape(1,-1), bert.encode([d]).reshape(1,-1))[0][0])\r\n",
    "\r\n",
    "    Count_dist = max(cosine_similarity(count.transform([a]).reshape(1,-1), count.transform([b]).reshape(1,-1))[0][0], \r\n",
    "    cosine_similarity(count.transform([a]).reshape(1,-1), count.transform([c]).reshape(1,-1))[0][0],\r\n",
    "    cosine_similarity(count.transform([a]).reshape(1,-1), count.transform([d]).reshape(1,-1))[0][0])\r\n",
    "\r\n",
    "    print('bert',BERT_dist)\r\n",
    "    print('count',Count_dist)\r\n",
    "    \r\n",
    "    dists = [[Count_dist,BERT_dist]]\r\n",
    "    print(dists)\r\n",
    "    score = model.predict(dists)\r\n",
    "\r\n",
    "    return score[0]\r\n"
   ],
   "outputs": [],
   "metadata": {}
  },
  {
   "cell_type": "code",
   "execution_count": 16,
   "source": [
    "scored('Lagrange multipliers will be greater than zero','Lagrange multipliers will be positive','Alpha will be greater than zero','Alpha will be positive')"
   ],
   "outputs": [
    {
     "output_type": "stream",
     "name": "stdout",
     "text": [
      "bert 0.5738301\n",
      "count 0.8058981874026465\n",
      "[[0.8058981874026465, 0.5738301]]\n"
     ]
    },
    {
     "output_type": "execute_result",
     "data": {
      "text/plain": [
       "0.6099999999999995"
      ]
     },
     "metadata": {},
     "execution_count": 16
    }
   ],
   "metadata": {}
  },
  {
   "cell_type": "code",
   "execution_count": 9,
   "source": [
    "cosine_similarity(bert.encode(['Lagrange multipliers will be greater than zero']).reshape(1,-1), bert.encode(['Alpha will be positive']).reshape(1,-1))[0][0]"
   ],
   "outputs": [
    {
     "output_type": "execute_result",
     "data": {
      "text/plain": [
       "0.13165961"
      ]
     },
     "metadata": {},
     "execution_count": 9
    }
   ],
   "metadata": {}
  },
  {
   "cell_type": "markdown",
   "source": [
    "# Multiple data"
   ],
   "metadata": {}
  },
  {
   "cell_type": "code",
   "execution_count": null,
   "source": [],
   "outputs": [],
   "metadata": {}
  },
  {
   "cell_type": "code",
   "execution_count": null,
   "source": [],
   "outputs": [],
   "metadata": {}
  },
  {
   "cell_type": "code",
   "execution_count": 80,
   "source": [
    "def formatter(dataf):\r\n",
    "\r\n",
    "    \"\"\"\r\n",
    "    \r\n",
    "    This function accepts the dataframe for the multiple aspirants case and returns a list of emails and a dictionary of emails:[list of topics]\r\n",
    "    \r\n",
    "    Functionality:\r\n",
    "    1. Replace blank entries by 'No'\r\n",
    "    2. Replace 'Yes' in the topic columns by the topic name, i.e. 'Yes' in 'Statistics' -> 'Statistics'\r\n",
    "       A demo is there in the test_pad.ipynb\r\n",
    "    3. Store the list of emails\r\n",
    "    4. Create the dictionary of {email:[list of topics]} for different aspirants\r\n",
    "    5. Return the list of emails and the dictionary created above\r\n",
    "\r\n",
    "    \"\"\"\r\n",
    "\r\n",
    "\r\n",
    "    dataf.fillna('No', inplace=True)\r\n",
    "    for i in range(len(dataf)):\r\n",
    "        for col in dataf.columns[1:]:\r\n",
    "            dataf[col][i] = col if dataf[col][i]=='Yes' else ''\r\n",
    "    emails = dataf.iloc[:,0].tolist()\r\n",
    "    topics={}\r\n",
    "    vals = {0:'Email',1:'Statistics',2:'Linear Regression',3:'Logistic Regression',4:'KNN',5:'SVM',6:'Kmeans',7:'Decision Tree',8:'Naive Bayes'}\r\n",
    "\r\n",
    "    for i in range(dataf.shape[0]):\r\n",
    "        topics[emails[i]]=[vals[kk] for kk in [x for x in dataf.iloc[i,:].tolist()[1:] if x!='']]\r\n",
    "    return emails, topics"
   ],
   "outputs": [],
   "metadata": {}
  },
  {
   "cell_type": "code",
   "execution_count": 81,
   "source": [
    "data = pd.read_csv(r\"C:\\Users\\ADMIN\\Documents\\Codebase\\Interview_chatbot\\client_webapp\\format.csv\")"
   ],
   "outputs": [],
   "metadata": {}
  },
  {
   "cell_type": "code",
   "execution_count": 82,
   "source": [
    "em,tpcs = formatter(data)"
   ],
   "outputs": [
    {
     "output_type": "error",
     "ename": "KeyError",
     "evalue": "'Statistics'",
     "traceback": [
      "\u001b[1;31m---------------------------------------------------------------------------\u001b[0m",
      "\u001b[1;31mKeyError\u001b[0m                                  Traceback (most recent call last)",
      "\u001b[1;32m<ipython-input-82-2c8cfcaac200>\u001b[0m in \u001b[0;36m<module>\u001b[1;34m\u001b[0m\n\u001b[1;32m----> 1\u001b[1;33m \u001b[0mem\u001b[0m\u001b[1;33m,\u001b[0m\u001b[0mtpcs\u001b[0m \u001b[1;33m=\u001b[0m \u001b[0mformatter\u001b[0m\u001b[1;33m(\u001b[0m\u001b[0mdata\u001b[0m\u001b[1;33m)\u001b[0m\u001b[1;33m\u001b[0m\u001b[1;33m\u001b[0m\u001b[0m\n\u001b[0m",
      "\u001b[1;32m<ipython-input-80-dd38f272c8e3>\u001b[0m in \u001b[0;36mformatter\u001b[1;34m(dataf)\u001b[0m\n\u001b[0;32m     26\u001b[0m \u001b[1;33m\u001b[0m\u001b[0m\n\u001b[0;32m     27\u001b[0m     \u001b[1;32mfor\u001b[0m \u001b[0mi\u001b[0m \u001b[1;32min\u001b[0m \u001b[0mrange\u001b[0m\u001b[1;33m(\u001b[0m\u001b[0mdataf\u001b[0m\u001b[1;33m.\u001b[0m\u001b[0mshape\u001b[0m\u001b[1;33m[\u001b[0m\u001b[1;36m0\u001b[0m\u001b[1;33m]\u001b[0m\u001b[1;33m)\u001b[0m\u001b[1;33m:\u001b[0m\u001b[1;33m\u001b[0m\u001b[1;33m\u001b[0m\u001b[0m\n\u001b[1;32m---> 28\u001b[1;33m         \u001b[0mtopics\u001b[0m\u001b[1;33m[\u001b[0m\u001b[0memails\u001b[0m\u001b[1;33m[\u001b[0m\u001b[0mi\u001b[0m\u001b[1;33m]\u001b[0m\u001b[1;33m]\u001b[0m\u001b[1;33m=\u001b[0m\u001b[1;33m[\u001b[0m\u001b[0mvals\u001b[0m\u001b[1;33m[\u001b[0m\u001b[0mkk\u001b[0m\u001b[1;33m]\u001b[0m \u001b[1;32mfor\u001b[0m \u001b[0mkk\u001b[0m \u001b[1;32min\u001b[0m \u001b[1;33m[\u001b[0m\u001b[0mx\u001b[0m \u001b[1;32mfor\u001b[0m \u001b[0mx\u001b[0m \u001b[1;32min\u001b[0m \u001b[0mdataf\u001b[0m\u001b[1;33m.\u001b[0m\u001b[0miloc\u001b[0m\u001b[1;33m[\u001b[0m\u001b[0mi\u001b[0m\u001b[1;33m,\u001b[0m\u001b[1;33m:\u001b[0m\u001b[1;33m]\u001b[0m\u001b[1;33m.\u001b[0m\u001b[0mtolist\u001b[0m\u001b[1;33m(\u001b[0m\u001b[1;33m)\u001b[0m\u001b[1;33m[\u001b[0m\u001b[1;36m1\u001b[0m\u001b[1;33m:\u001b[0m\u001b[1;33m]\u001b[0m \u001b[1;32mif\u001b[0m \u001b[0mx\u001b[0m\u001b[1;33m!=\u001b[0m\u001b[1;34m''\u001b[0m\u001b[1;33m]\u001b[0m\u001b[1;33m]\u001b[0m\u001b[1;33m\u001b[0m\u001b[1;33m\u001b[0m\u001b[0m\n\u001b[0m\u001b[0;32m     29\u001b[0m     \u001b[1;32mreturn\u001b[0m \u001b[0memails\u001b[0m\u001b[1;33m,\u001b[0m \u001b[0mtopics\u001b[0m\u001b[1;33m\u001b[0m\u001b[1;33m\u001b[0m\u001b[0m\n",
      "\u001b[1;32m<ipython-input-80-dd38f272c8e3>\u001b[0m in \u001b[0;36m<listcomp>\u001b[1;34m(.0)\u001b[0m\n\u001b[0;32m     26\u001b[0m \u001b[1;33m\u001b[0m\u001b[0m\n\u001b[0;32m     27\u001b[0m     \u001b[1;32mfor\u001b[0m \u001b[0mi\u001b[0m \u001b[1;32min\u001b[0m \u001b[0mrange\u001b[0m\u001b[1;33m(\u001b[0m\u001b[0mdataf\u001b[0m\u001b[1;33m.\u001b[0m\u001b[0mshape\u001b[0m\u001b[1;33m[\u001b[0m\u001b[1;36m0\u001b[0m\u001b[1;33m]\u001b[0m\u001b[1;33m)\u001b[0m\u001b[1;33m:\u001b[0m\u001b[1;33m\u001b[0m\u001b[1;33m\u001b[0m\u001b[0m\n\u001b[1;32m---> 28\u001b[1;33m         \u001b[0mtopics\u001b[0m\u001b[1;33m[\u001b[0m\u001b[0memails\u001b[0m\u001b[1;33m[\u001b[0m\u001b[0mi\u001b[0m\u001b[1;33m]\u001b[0m\u001b[1;33m]\u001b[0m\u001b[1;33m=\u001b[0m\u001b[1;33m[\u001b[0m\u001b[0mvals\u001b[0m\u001b[1;33m[\u001b[0m\u001b[0mkk\u001b[0m\u001b[1;33m]\u001b[0m \u001b[1;32mfor\u001b[0m \u001b[0mkk\u001b[0m \u001b[1;32min\u001b[0m \u001b[1;33m[\u001b[0m\u001b[0mx\u001b[0m \u001b[1;32mfor\u001b[0m \u001b[0mx\u001b[0m \u001b[1;32min\u001b[0m \u001b[0mdataf\u001b[0m\u001b[1;33m.\u001b[0m\u001b[0miloc\u001b[0m\u001b[1;33m[\u001b[0m\u001b[0mi\u001b[0m\u001b[1;33m,\u001b[0m\u001b[1;33m:\u001b[0m\u001b[1;33m]\u001b[0m\u001b[1;33m.\u001b[0m\u001b[0mtolist\u001b[0m\u001b[1;33m(\u001b[0m\u001b[1;33m)\u001b[0m\u001b[1;33m[\u001b[0m\u001b[1;36m1\u001b[0m\u001b[1;33m:\u001b[0m\u001b[1;33m]\u001b[0m \u001b[1;32mif\u001b[0m \u001b[0mx\u001b[0m\u001b[1;33m!=\u001b[0m\u001b[1;34m''\u001b[0m\u001b[1;33m]\u001b[0m\u001b[1;33m]\u001b[0m\u001b[1;33m\u001b[0m\u001b[1;33m\u001b[0m\u001b[0m\n\u001b[0m\u001b[0;32m     29\u001b[0m     \u001b[1;32mreturn\u001b[0m \u001b[0memails\u001b[0m\u001b[1;33m,\u001b[0m \u001b[0mtopics\u001b[0m\u001b[1;33m\u001b[0m\u001b[1;33m\u001b[0m\u001b[0m\n",
      "\u001b[1;31mKeyError\u001b[0m: 'Statistics'"
     ]
    }
   ],
   "metadata": {}
  },
  {
   "cell_type": "code",
   "execution_count": 77,
   "source": [
    "vals = {0:'Email',1:'Statistics',2:'Linear Regression',3:'Logistic Regression',4:'KNN',5:'SVM',6:'Kmeans',7:'Decision Tree',8:'Naive Bayes'}"
   ],
   "outputs": [],
   "metadata": {}
  },
  {
   "cell_type": "code",
   "execution_count": 84,
   "source": [
    "em = em[1:]"
   ],
   "outputs": [],
   "metadata": {}
  },
  {
   "cell_type": "code",
   "execution_count": 85,
   "source": [
    "em"
   ],
   "outputs": [
    {
     "output_type": "execute_result",
     "data": {
      "text/plain": [
       "['shahrukh.gouhar@praxis.ac.in',\n",
       " 'radha.rathore@praxis.ac.in',\n",
       " 'mansoor.ali.shaik@praxis.ac.in']"
      ]
     },
     "metadata": {},
     "execution_count": 85
    }
   ],
   "metadata": {}
  },
  {
   "cell_type": "code",
   "execution_count": 79,
   "source": [
    "tpcs.values()"
   ],
   "outputs": [
    {
     "output_type": "execute_result",
     "data": {
      "text/plain": [
       "dict_values([['Statistics', 'SVM', 'Naïve Bayes'], ['Statistics', 'Linear Regression', 'Logistic Regression'], ['Statistics', 'Decision Tree'], ['Statistics', 'KNN', 'Kmeans']])"
      ]
     },
     "metadata": {},
     "execution_count": 79
    }
   ],
   "metadata": {}
  },
  {
   "cell_type": "code",
   "execution_count": 70,
   "source": [
    "[vals[i] for i in data]"
   ],
   "outputs": [
    {
     "output_type": "execute_result",
     "data": {
      "text/plain": [
       "['Statistics', 'Linear Regression', 'Logistic Regression', 'KNN']"
      ]
     },
     "metadata": {},
     "execution_count": 70
    }
   ],
   "metadata": {}
  },
  {
   "cell_type": "code",
   "execution_count": 48,
   "source": [
    "data.reset_index()"
   ],
   "outputs": [
    {
     "output_type": "execute_result",
     "data": {
      "text/html": [
       "<div>\n",
       "<style scoped>\n",
       "    .dataframe tbody tr th:only-of-type {\n",
       "        vertical-align: middle;\n",
       "    }\n",
       "\n",
       "    .dataframe tbody tr th {\n",
       "        vertical-align: top;\n",
       "    }\n",
       "\n",
       "    .dataframe thead th {\n",
       "        text-align: right;\n",
       "    }\n",
       "</style>\n",
       "<table border=\"1\" class=\"dataframe\">\n",
       "  <thead>\n",
       "    <tr style=\"text-align: right;\">\n",
       "      <th></th>\n",
       "      <th>index</th>\n",
       "      <th>Email</th>\n",
       "      <th>Statistics</th>\n",
       "      <th>Linear Regression</th>\n",
       "      <th>Logistic Regression</th>\n",
       "      <th>KNN</th>\n",
       "      <th>SVM</th>\n",
       "      <th>Kmeans</th>\n",
       "      <th>Decision Tree</th>\n",
       "      <th>Naïve Bayes</th>\n",
       "    </tr>\n",
       "  </thead>\n",
       "  <tbody>\n",
       "    <tr>\n",
       "      <th>0</th>\n",
       "      <td>1</td>\n",
       "      <td>anupam.misra@praxis.ac.in</td>\n",
       "      <td>Statistics</td>\n",
       "      <td></td>\n",
       "      <td></td>\n",
       "      <td></td>\n",
       "      <td>SVM</td>\n",
       "      <td></td>\n",
       "      <td></td>\n",
       "      <td>Naïve Bayes</td>\n",
       "    </tr>\n",
       "    <tr>\n",
       "      <th>1</th>\n",
       "      <td>2</td>\n",
       "      <td>shahrukh.gouhar@praxis.ac.in</td>\n",
       "      <td>Statistics</td>\n",
       "      <td>Linear Regression</td>\n",
       "      <td>Logistic Regression</td>\n",
       "      <td></td>\n",
       "      <td></td>\n",
       "      <td></td>\n",
       "      <td></td>\n",
       "      <td></td>\n",
       "    </tr>\n",
       "    <tr>\n",
       "      <th>2</th>\n",
       "      <td>3</td>\n",
       "      <td>radha.rathore@praxis.ac.in</td>\n",
       "      <td>Statistics</td>\n",
       "      <td></td>\n",
       "      <td></td>\n",
       "      <td></td>\n",
       "      <td></td>\n",
       "      <td></td>\n",
       "      <td>Decision Tree</td>\n",
       "      <td></td>\n",
       "    </tr>\n",
       "    <tr>\n",
       "      <th>3</th>\n",
       "      <td>4</td>\n",
       "      <td>mansoor.ali.shaik@praxis.ac.in</td>\n",
       "      <td>Statistics</td>\n",
       "      <td></td>\n",
       "      <td></td>\n",
       "      <td>KNN</td>\n",
       "      <td></td>\n",
       "      <td>Kmeans</td>\n",
       "      <td></td>\n",
       "      <td></td>\n",
       "    </tr>\n",
       "  </tbody>\n",
       "</table>\n",
       "</div>"
      ],
      "text/plain": [
       "   index                           Email  Statistics  Linear Regression  \\\n",
       "0      1       anupam.misra@praxis.ac.in  Statistics                      \n",
       "1      2    shahrukh.gouhar@praxis.ac.in  Statistics  Linear Regression   \n",
       "2      3      radha.rathore@praxis.ac.in  Statistics                      \n",
       "3      4  mansoor.ali.shaik@praxis.ac.in  Statistics                      \n",
       "\n",
       "   Logistic Regression  KNN  SVM  Kmeans  Decision Tree  Naïve Bayes  \n",
       "0                            SVM                         Naïve Bayes  \n",
       "1  Logistic Regression                                                \n",
       "2                                         Decision Tree               \n",
       "3                       KNN       Kmeans                              "
      ]
     },
     "metadata": {},
     "execution_count": 48
    }
   ],
   "metadata": {}
  },
  {
   "cell_type": "code",
   "execution_count": null,
   "source": [],
   "outputs": [],
   "metadata": {}
  }
 ],
 "metadata": {
  "orig_nbformat": 4,
  "language_info": {
   "name": "python",
   "version": "3.9.5",
   "mimetype": "text/x-python",
   "codemirror_mode": {
    "name": "ipython",
    "version": 3
   },
   "pygments_lexer": "ipython3",
   "nbconvert_exporter": "python",
   "file_extension": ".py"
  },
  "kernelspec": {
   "name": "python3",
   "display_name": "Python 3.9.5 64-bit ('machine_L': venv)"
  },
  "interpreter": {
   "hash": "62a490a61034db1e8b6e05e6e999b5629625384177f9d8186b44b788547d5428"
  }
 },
 "nbformat": 4,
 "nbformat_minor": 2
}