{
 "cells": [
  {
   "cell_type": "markdown",
   "source": [
    "# Sending to multiple email IDS"
   ],
   "metadata": {}
  },
  {
   "cell_type": "code",
   "execution_count": 3,
   "source": [
    "import pandas as pd\r\n",
    "\r\n",
    "uploaded_excel = pd.read_csv(r\"C:/Users/ADMIN/Documents/Codebase/Interview_chatbot/format.csv\")\r\n"
   ],
   "outputs": [
    {
     "output_type": "stream",
     "name": "stderr",
     "text": [
      "c:\\Users\\ADMIN\\Documents\\Codebase\\envs\\machine_L\\lib\\site-packages\\numpy\\_distributor_init.py:30: UserWarning: loaded more than 1 DLL from .libs:\n",
      "c:\\Users\\ADMIN\\Documents\\Codebase\\envs\\machine_L\\lib\\site-packages\\numpy\\.libs\\libopenblas.GK7GX5KEQ4F6UYO3P26ULGBQYHGQO7J4.gfortran-win_amd64.dll\n",
      "c:\\Users\\ADMIN\\Documents\\Codebase\\envs\\machine_L\\lib\\site-packages\\numpy\\.libs\\libopenblas.XWYDX2IKJW2NMTWSFYNGFUWKQU3LYTCZ.gfortran-win_amd64.dll\n",
      "  warnings.warn(\"loaded more than 1 DLL from .libs:\"\n"
     ]
    }
   ],
   "metadata": {}
  },
  {
   "cell_type": "code",
   "execution_count": 2,
   "source": [
    "def formatter(dataf):\r\n",
    "    dataf.fillna('No', inplace=True)\r\n",
    "    for i in range(len(dataf)):\r\n",
    "        for col in dataf.columns[1:]:\r\n",
    "            dataf[col][i] = col if dataf[col][i]=='Yes' else ''\r\n",
    "    emails = dataf.Email.tolist()\r\n",
    "    topics={}\r\n",
    "    for i in range(dataf.shape[0]):\r\n",
    "        topics[emails[i]]=[x for x in dataf.iloc[i].tolist()[1:] if x!='']\r\n",
    "    return emails, topics"
   ],
   "outputs": [],
   "metadata": {}
  },
  {
   "cell_type": "code",
   "execution_count": 4,
   "source": [
    "em, tp = formatter(uploaded_excel)"
   ],
   "outputs": [],
   "metadata": {}
  },
  {
   "cell_type": "code",
   "execution_count": 5,
   "source": [
    "tp"
   ],
   "outputs": [
    {
     "output_type": "execute_result",
     "data": {
      "text/plain": [
       "{'anupam.misra@praxis.ac.in': ['Statistics', 'SVM', 'Naïve Bayes'],\n",
       " 'shahrukh.gouhar@praxis.ac.in': ['Statistics',\n",
       "  'Linear Regression',\n",
       "  'Logistic Regression'],\n",
       " 'radha.rathore@praxis.ac.in': ['Statistics', 'Decision Tree'],\n",
       " 'mansoor.ali.shaik@praxis.ac.in': ['Statistics', 'KNN', 'Kmeans']}"
      ]
     },
     "metadata": {},
     "execution_count": 5
    }
   ],
   "metadata": {}
  },
  {
   "cell_type": "code",
   "execution_count": 22,
   "source": [
    "import datetime as DT\r\n",
    "today = \r\n",
    "deadline = (DT.date.today() + DT.timedelta(days=7)).strftime('%d-%m-%y')"
   ],
   "outputs": [
    {
     "output_type": "execute_result",
     "data": {
      "text/plain": [
       "'12 - 10 - 21'"
      ]
     },
     "metadata": {},
     "execution_count": 22
    }
   ],
   "metadata": {}
  },
  {
   "cell_type": "markdown",
   "source": [
    "# DB work"
   ],
   "metadata": {}
  },
  {
   "cell_type": "code",
   "execution_count": 13,
   "source": [
    "import MySQLdb\r\n",
    "hostName = 'db4free.net'      \r\n",
    "userName = 'udreedbczu'          \r\n",
    "passWord = 'ezcb9vazqz'           \r\n",
    "dbName =  userName                \r\n",
    "DBConn= MySQLdb.connect(hostName,userName,passWord,dbName)\r\n",
    "def runCMD (DDL):\r\n",
    "    DBConn= MySQLdb.connect(hostName,userName,passWord,dbName)\r\n",
    "    myCursor = DBConn.cursor()\r\n",
    "    retcode = myCursor.execute(DDL) \r\n",
    "    print (retcode)\r\n",
    "    DBConn.commit()\r\n",
    "    DBConn.close()\r\n",
    "\r\n",
    "def runSELECT (CMD):\r\n",
    "    DBConn= MySQLdb.connect(hostName,userName,passWord,dbName)\r\n",
    "    df_mysql = pd.read_sql(CMD, con=DBConn)    \r\n",
    "    DBConn.close()\r\n",
    "    return df_mysql\r\n",
    "\r\n",
    "def r(msg):\r\n",
    "    if msg[0:6]==\"SELECT\" or msg[0:6]==\"select\":\r\n",
    "        return runSELECT(msg)\r\n",
    "    else:\r\n",
    "        runCMD(msg)"
   ],
   "outputs": [],
   "metadata": {}
  },
  {
   "cell_type": "code",
   "execution_count": 8,
   "source": [
    "# Client side; To store logins and their respective topics\r\n",
    "emailt='anupam@gmail'\r\n",
    "topics_for_printing='KNN, Decision Tree, SVM'\r\n",
    "r(f'INSERT into aspirant_topics(login,topics) VALUES (\"{emailt}\",\"{topics_for_printing}\")')"
   ],
   "outputs": [
    {
     "output_type": "stream",
     "name": "stdout",
     "text": [
      "1\n"
     ]
    }
   ],
   "metadata": {}
  },
  {
   "cell_type": "code",
   "execution_count": 12,
   "source": [
    "r(f\"select * from aspirant_topics\")"
   ],
   "outputs": [
    {
     "output_type": "execute_result",
     "data": {
      "text/html": [
       "<div>\n",
       "<style scoped>\n",
       "    .dataframe tbody tr th:only-of-type {\n",
       "        vertical-align: middle;\n",
       "    }\n",
       "\n",
       "    .dataframe tbody tr th {\n",
       "        vertical-align: top;\n",
       "    }\n",
       "\n",
       "    .dataframe thead th {\n",
       "        text-align: right;\n",
       "    }\n",
       "</style>\n",
       "<table border=\"1\" class=\"dataframe\">\n",
       "  <thead>\n",
       "    <tr style=\"text-align: right;\">\n",
       "      <th></th>\n",
       "      <th>login</th>\n",
       "      <th>topics</th>\n",
       "    </tr>\n",
       "  </thead>\n",
       "  <tbody>\n",
       "    <tr>\n",
       "      <th>0</th>\n",
       "      <td>anupam@gmail</td>\n",
       "      <td>KNN, Decision Tree, SVM</td>\n",
       "    </tr>\n",
       "    <tr>\n",
       "      <th>1</th>\n",
       "      <td>anupam@praxi.com</td>\n",
       "      <td>Statistics, Naive Bayes</td>\n",
       "    </tr>\n",
       "    <tr>\n",
       "      <th>2</th>\n",
       "      <td>anupam.misra@praxis.ac.in</td>\n",
       "      <td>Statistics, Linear Regression, Logistic Regres...</td>\n",
       "    </tr>\n",
       "  </tbody>\n",
       "</table>\n",
       "</div>"
      ],
      "text/plain": [
       "                       login  \\\n",
       "0               anupam@gmail   \n",
       "1           anupam@praxi.com   \n",
       "2  anupam.misra@praxis.ac.in   \n",
       "\n",
       "                                              topics  \n",
       "0                            KNN, Decision Tree, SVM  \n",
       "1                            Statistics, Naive Bayes  \n",
       "2  Statistics, Linear Regression, Logistic Regres...  "
      ]
     },
     "metadata": {},
     "execution_count": 12
    }
   ],
   "metadata": {}
  },
  {
   "cell_type": "code",
   "execution_count": 14,
   "source": [
    "# Aspirant side; To obtain topics for a particular login\r\n",
    "import pandas as pd\r\n",
    "login_provided_by_aspirant = 'anupam.misra@praxis.ac.in'\r\n",
    "\r\n",
    "r(f\"select topics from aspirant_topics where login='{login_provided_by_aspirant}'\").iloc[0,0]"
   ],
   "outputs": [
    {
     "output_type": "execute_result",
     "data": {
      "text/plain": [
       "'Statistics, Linear Regression, Logistic Regression, KNN'"
      ]
     },
     "metadata": {},
     "execution_count": 14
    }
   ],
   "metadata": {}
  },
  {
   "cell_type": "markdown",
   "source": [
    "# Scorer"
   ],
   "metadata": {}
  },
  {
   "cell_type": "code",
   "execution_count": 15,
   "source": [
    "# from sentence_transformers import SentenceTransformer\r\n",
    "# from sklearn.metrics.pairwise import cosine_similarity\r\n",
    "# import pickle\r\n",
    "\r\n",
    "# bert = SentenceTransformer('bert-large-nli-stsb-mean-tokens')\r\n",
    "\r\n",
    "# with open(r'C:\\Users\\ADMIN\\Documents\\Codebase\\interview_chatbot\\aspirant_webapp\\count.pkl','rb') as f1:\r\n",
    "#     count = pickle.load(f1)\r\n",
    "\r\n",
    "# with open(r'C:\\Users\\ADMIN\\Documents\\Codebase\\interview_chatbot\\aspirant_webapp\\model.pkl','rb') as f2:\r\n",
    "#     model = pickle.load(f2)\r\n",
    "\r\n",
    "def scored(a,b,c,d):\r\n",
    "\r\n",
    "    BERT_dist = max(cosine_similarity(bert.encode([a]).reshape(1,-1), bert.encode([b]).reshape(1,-1))[0][0], \r\n",
    "    cosine_similarity(bert.encode([a]).reshape(1,-1), bert.encode([c]).reshape(1,-1))[0][0],\r\n",
    "    cosine_similarity(bert.encode([a]).reshape(1,-1), bert.encode([d]).reshape(1,-1))[0][0])\r\n",
    "\r\n",
    "    Count_dist = max(cosine_similarity(count.transform([a]).reshape(1,-1), count.transform([b]).reshape(1,-1))[0][0], \r\n",
    "    cosine_similarity(count.transform([a]).reshape(1,-1), count.transform([c]).reshape(1,-1))[0][0],\r\n",
    "    cosine_similarity(count.transform([a]).reshape(1,-1), count.transform([d]).reshape(1,-1))[0][0])\r\n",
    "\r\n",
    "    print('bert',BERT_dist)\r\n",
    "    print('count',Count_dist)\r\n",
    "    \r\n",
    "    dists = [[Count_dist,BERT_dist]]\r\n",
    "    print(dists)\r\n",
    "    score = model.predict(dists)\r\n",
    "\r\n",
    "    return score[0]\r\n"
   ],
   "outputs": [],
   "metadata": {}
  },
  {
   "cell_type": "code",
   "execution_count": 16,
   "source": [
    "scored('Lagrange multipliers will be greater than zero','Lagrange multipliers will be positive','Alpha will be greater than zero','Alpha will be positive')"
   ],
   "outputs": [
    {
     "output_type": "stream",
     "name": "stdout",
     "text": [
      "bert 0.5738301\n",
      "count 0.8058981874026465\n",
      "[[0.8058981874026465, 0.5738301]]\n"
     ]
    },
    {
     "output_type": "execute_result",
     "data": {
      "text/plain": [
       "0.6099999999999995"
      ]
     },
     "metadata": {},
     "execution_count": 16
    }
   ],
   "metadata": {}
  },
  {
   "cell_type": "code",
   "execution_count": 9,
   "source": [
    "cosine_similarity(bert.encode(['Lagrange multipliers will be greater than zero']).reshape(1,-1), bert.encode(['Alpha will be positive']).reshape(1,-1))[0][0]"
   ],
   "outputs": [
    {
     "output_type": "execute_result",
     "data": {
      "text/plain": [
       "0.13165961"
      ]
     },
     "metadata": {},
     "execution_count": 9
    }
   ],
   "metadata": {}
  },
  {
   "cell_type": "markdown",
   "source": [
    "# Multiple data"
   ],
   "metadata": {}
  },
  {
   "cell_type": "code",
   "execution_count": 2,
   "source": [
    "import pandas as pd\r\n"
   ],
   "outputs": [
    {
     "output_type": "stream",
     "name": "stderr",
     "text": [
      "c:\\Users\\ADMIN\\Documents\\Codebase\\envs\\machine_L\\lib\\site-packages\\numpy\\_distributor_init.py:30: UserWarning: loaded more than 1 DLL from .libs:\n",
      "c:\\Users\\ADMIN\\Documents\\Codebase\\envs\\machine_L\\lib\\site-packages\\numpy\\.libs\\libopenblas.GK7GX5KEQ4F6UYO3P26ULGBQYHGQO7J4.gfortran-win_amd64.dll\n",
      "c:\\Users\\ADMIN\\Documents\\Codebase\\envs\\machine_L\\lib\\site-packages\\numpy\\.libs\\libopenblas.XWYDX2IKJW2NMTWSFYNGFUWKQU3LYTCZ.gfortran-win_amd64.dll\n",
      "  warnings.warn(\"loaded more than 1 DLL from .libs:\"\n"
     ]
    }
   ],
   "metadata": {}
  },
  {
   "cell_type": "code",
   "execution_count": 8,
   "source": [
    "pd.DataFrame(dd)"
   ],
   "outputs": [
    {
     "output_type": "execute_result",
     "data": {
      "text/html": [
       "<div>\n",
       "<style scoped>\n",
       "    .dataframe tbody tr th:only-of-type {\n",
       "        vertical-align: middle;\n",
       "    }\n",
       "\n",
       "    .dataframe tbody tr th {\n",
       "        vertical-align: top;\n",
       "    }\n",
       "\n",
       "    .dataframe thead th {\n",
       "        text-align: right;\n",
       "    }\n",
       "</style>\n",
       "<table border=\"1\" class=\"dataframe\">\n",
       "  <thead>\n",
       "    <tr style=\"text-align: right;\">\n",
       "      <th></th>\n",
       "      <th>result</th>\n",
       "    </tr>\n",
       "  </thead>\n",
       "  <tbody>\n",
       "    <tr>\n",
       "      <th>0</th>\n",
       "      <td>[Unique_ID, Topic, Question, Actual_answer, An...</td>\n",
       "    </tr>\n",
       "    <tr>\n",
       "      <th>1</th>\n",
       "      <td>[1, SVM, What is C in SVM?, A model hyperparam...</td>\n",
       "    </tr>\n",
       "    <tr>\n",
       "      <th>2</th>\n",
       "      <td>[2, SVM, What is C in SVM?, A model hyperparam...</td>\n",
       "    </tr>\n",
       "    <tr>\n",
       "      <th>3</th>\n",
       "      <td>[3, SVM, What is C in SVM?, A model hyperparam...</td>\n",
       "    </tr>\n",
       "    <tr>\n",
       "      <th>4</th>\n",
       "      <td>[4, SVM, What is C in SVM?, A model hyperparam...</td>\n",
       "    </tr>\n",
       "    <tr>\n",
       "      <th>...</th>\n",
       "      <td>...</td>\n",
       "    </tr>\n",
       "    <tr>\n",
       "      <th>150</th>\n",
       "      <td>[150, Kmeans, Why Kmeans is effected by outlie...</td>\n",
       "    </tr>\n",
       "    <tr>\n",
       "      <th>151</th>\n",
       "      <td>[151, Kmeans, In Kmeans what does 'K' specify?...</td>\n",
       "    </tr>\n",
       "    <tr>\n",
       "      <th>152</th>\n",
       "      <td>[152, Kmeans, In Kmeans what does 'K' specify?...</td>\n",
       "    </tr>\n",
       "    <tr>\n",
       "      <th>153</th>\n",
       "      <td>[153, Kmeans, In Kmeans what does 'K' specify?...</td>\n",
       "    </tr>\n",
       "    <tr>\n",
       "      <th>154</th>\n",
       "      <td>[154, Kmeans, In Kmeans what does 'K' specify?...</td>\n",
       "    </tr>\n",
       "  </tbody>\n",
       "</table>\n",
       "<p>155 rows × 1 columns</p>\n",
       "</div>"
      ],
      "text/plain": [
       "                                                result\n",
       "0    [Unique_ID, Topic, Question, Actual_answer, An...\n",
       "1    [1, SVM, What is C in SVM?, A model hyperparam...\n",
       "2    [2, SVM, What is C in SVM?, A model hyperparam...\n",
       "3    [3, SVM, What is C in SVM?, A model hyperparam...\n",
       "4    [4, SVM, What is C in SVM?, A model hyperparam...\n",
       "..                                                 ...\n",
       "150  [150, Kmeans, Why Kmeans is effected by outlie...\n",
       "151  [151, Kmeans, In Kmeans what does 'K' specify?...\n",
       "152  [152, Kmeans, In Kmeans what does 'K' specify?...\n",
       "153  [153, Kmeans, In Kmeans what does 'K' specify?...\n",
       "154  [154, Kmeans, In Kmeans what does 'K' specify?...\n",
       "\n",
       "[155 rows x 1 columns]"
      ]
     },
     "metadata": {},
     "execution_count": 8
    }
   ],
   "metadata": {}
  },
  {
   "cell_type": "code",
   "execution_count": 10,
   "source": [
    "from flask_response import get_json"
   ],
   "outputs": [
    {
     "output_type": "error",
     "ename": "ModuleNotFoundError",
     "evalue": "No module named 'flask_response'",
     "traceback": [
      "\u001b[1;31m---------------------------------------------------------------------------\u001b[0m",
      "\u001b[1;31mModuleNotFoundError\u001b[0m                       Traceback (most recent call last)",
      "\u001b[1;32m<ipython-input-10-896f10e83bb1>\u001b[0m in \u001b[0;36m<module>\u001b[1;34m\u001b[0m\n\u001b[1;32m----> 1\u001b[1;33m \u001b[1;32mfrom\u001b[0m \u001b[0mflask_response\u001b[0m \u001b[1;32mimport\u001b[0m \u001b[0mget_json\u001b[0m\u001b[1;33m\u001b[0m\u001b[1;33m\u001b[0m\u001b[0m\n\u001b[0m",
      "\u001b[1;31mModuleNotFoundError\u001b[0m: No module named 'flask_response'"
     ]
    }
   ],
   "metadata": {}
  },
  {
   "cell_type": "code",
   "execution_count": null,
   "source": [],
   "outputs": [],
   "metadata": {}
  },
  {
   "cell_type": "code",
   "execution_count": null,
   "source": [],
   "outputs": [],
   "metadata": {}
  },
  {
   "cell_type": "code",
   "execution_count": 74,
   "source": [
    "def formatter(dataf):\r\n",
    "\r\n",
    "    \"\"\"\r\n",
    "    \r\n",
    "    This function accepts the dataframe for the multiple aspirants case and returns a list of emails and a dictionary of emails:[list of topics]\r\n",
    "    \r\n",
    "    Functionality:\r\n",
    "    1. Replace blank entries by 'No'\r\n",
    "    2. Replace 'Yes' in the topic columns by the topic name, i.e. 'Yes' in 'Statistics' -> 'Statistics'\r\n",
    "       A demo is there in the test_pad.ipynb\r\n",
    "    3. Store the list of emails\r\n",
    "    4. Create the dictionary of {email:[list of topics]} for different aspirants\r\n",
    "    5. Return the list of emails and the dictionary created above\r\n",
    "\r\n",
    "    \"\"\"\r\n",
    "\r\n",
    "\r\n",
    "    dataf.columns = dataf.columns\r\n",
    "    dataf.fillna('No', inplace=True)\r\n",
    "    for i in range(len(dataf)):\r\n",
    "        for col in dataf.columns[1:]:\r\n",
    "            dataf[col][i] = col if dataf[col][i]=='Yes' else ''\r\n",
    "    emails = dataf.iloc[:,0].tolist()\r\n",
    "    topics={}\r\n",
    "    vals = {0:'Email',1:'Statistics',2:'Linear Regression',3:'Logistic Regression',4:'KNN',5:'SVM',6:'Kmeans',7:'Decision Tree',8:'Naive Bayes'}\r\n",
    "\r\n",
    "    for i in range(dataf.shape[0]):\r\n",
    "        topics[emails[i]]=[vals[kk] for kk in [x for x in dataf.iloc[i,:].tolist()[1:] if x!='']]\r\n",
    "    return emails, topics"
   ],
   "outputs": [],
   "metadata": {}
  },
  {
   "cell_type": "code",
   "execution_count": 75,
   "source": [
    "data = pd.read_csv(r\"C:\\Users\\ADMIN\\Documents\\Codebase\\Interview_chatbot\\client_webapp\\format.csv\")"
   ],
   "outputs": [],
   "metadata": {}
  },
  {
   "cell_type": "code",
   "execution_count": 76,
   "source": [
    "em,tpcs = formatter(data)"
   ],
   "outputs": [],
   "metadata": {}
  },
  {
   "cell_type": "code",
   "execution_count": 77,
   "source": [
    "vals = {0:'Email',1:'Statistics',2:'Linear Regression',3:'Logistic Regression',4:'KNN',5:'SVM',6:'Kmeans',7:'Decision Tree',8:'Naive Bayes'}"
   ],
   "outputs": [],
   "metadata": {}
  },
  {
   "cell_type": "code",
   "execution_count": 66,
   "source": [
    "data=[1,2,3,4]"
   ],
   "outputs": [],
   "metadata": {}
  },
  {
   "cell_type": "code",
   "execution_count": null,
   "source": [],
   "outputs": [],
   "metadata": {}
  },
  {
   "cell_type": "code",
   "execution_count": 79,
   "source": [
    "tpcs.values()"
   ],
   "outputs": [
    {
     "output_type": "execute_result",
     "data": {
      "text/plain": [
       "dict_values([['Statistics', 'SVM', 'Naïve Bayes'], ['Statistics', 'Linear Regression', 'Logistic Regression'], ['Statistics', 'Decision Tree'], ['Statistics', 'KNN', 'Kmeans']])"
      ]
     },
     "metadata": {},
     "execution_count": 79
    }
   ],
   "metadata": {}
  },
  {
   "cell_type": "code",
   "execution_count": 70,
   "source": [
    "[vals[i] for i in data]"
   ],
   "outputs": [
    {
     "output_type": "execute_result",
     "data": {
      "text/plain": [
       "['Statistics', 'Linear Regression', 'Logistic Regression', 'KNN']"
      ]
     },
     "metadata": {},
     "execution_count": 70
    }
   ],
   "metadata": {}
  },
  {
   "cell_type": "code",
   "execution_count": 48,
   "source": [
    "data.reset_index()"
   ],
   "outputs": [
    {
     "output_type": "execute_result",
     "data": {
      "text/html": [
       "<div>\n",
       "<style scoped>\n",
       "    .dataframe tbody tr th:only-of-type {\n",
       "        vertical-align: middle;\n",
       "    }\n",
       "\n",
       "    .dataframe tbody tr th {\n",
       "        vertical-align: top;\n",
       "    }\n",
       "\n",
       "    .dataframe thead th {\n",
       "        text-align: right;\n",
       "    }\n",
       "</style>\n",
       "<table border=\"1\" class=\"dataframe\">\n",
       "  <thead>\n",
       "    <tr style=\"text-align: right;\">\n",
       "      <th></th>\n",
       "      <th>index</th>\n",
       "      <th>Email</th>\n",
       "      <th>Statistics</th>\n",
       "      <th>Linear Regression</th>\n",
       "      <th>Logistic Regression</th>\n",
       "      <th>KNN</th>\n",
       "      <th>SVM</th>\n",
       "      <th>Kmeans</th>\n",
       "      <th>Decision Tree</th>\n",
       "      <th>Naïve Bayes</th>\n",
       "    </tr>\n",
       "  </thead>\n",
       "  <tbody>\n",
       "    <tr>\n",
       "      <th>0</th>\n",
       "      <td>1</td>\n",
       "      <td>anupam.misra@praxis.ac.in</td>\n",
       "      <td>Statistics</td>\n",
       "      <td></td>\n",
       "      <td></td>\n",
       "      <td></td>\n",
       "      <td>SVM</td>\n",
       "      <td></td>\n",
       "      <td></td>\n",
       "      <td>Naïve Bayes</td>\n",
       "    </tr>\n",
       "    <tr>\n",
       "      <th>1</th>\n",
       "      <td>2</td>\n",
       "      <td>shahrukh.gouhar@praxis.ac.in</td>\n",
       "      <td>Statistics</td>\n",
       "      <td>Linear Regression</td>\n",
       "      <td>Logistic Regression</td>\n",
       "      <td></td>\n",
       "      <td></td>\n",
       "      <td></td>\n",
       "      <td></td>\n",
       "      <td></td>\n",
       "    </tr>\n",
       "    <tr>\n",
       "      <th>2</th>\n",
       "      <td>3</td>\n",
       "      <td>radha.rathore@praxis.ac.in</td>\n",
       "      <td>Statistics</td>\n",
       "      <td></td>\n",
       "      <td></td>\n",
       "      <td></td>\n",
       "      <td></td>\n",
       "      <td></td>\n",
       "      <td>Decision Tree</td>\n",
       "      <td></td>\n",
       "    </tr>\n",
       "    <tr>\n",
       "      <th>3</th>\n",
       "      <td>4</td>\n",
       "      <td>mansoor.ali.shaik@praxis.ac.in</td>\n",
       "      <td>Statistics</td>\n",
       "      <td></td>\n",
       "      <td></td>\n",
       "      <td>KNN</td>\n",
       "      <td></td>\n",
       "      <td>Kmeans</td>\n",
       "      <td></td>\n",
       "      <td></td>\n",
       "    </tr>\n",
       "  </tbody>\n",
       "</table>\n",
       "</div>"
      ],
      "text/plain": [
       "   index                           Email  Statistics  Linear Regression  \\\n",
       "0      1       anupam.misra@praxis.ac.in  Statistics                      \n",
       "1      2    shahrukh.gouhar@praxis.ac.in  Statistics  Linear Regression   \n",
       "2      3      radha.rathore@praxis.ac.in  Statistics                      \n",
       "3      4  mansoor.ali.shaik@praxis.ac.in  Statistics                      \n",
       "\n",
       "   Logistic Regression  KNN  SVM  Kmeans  Decision Tree  Naïve Bayes  \n",
       "0                            SVM                         Naïve Bayes  \n",
       "1  Logistic Regression                                                \n",
       "2                                         Decision Tree               \n",
       "3                       KNN       Kmeans                              "
      ]
     },
     "metadata": {},
     "execution_count": 48
    }
   ],
   "metadata": {}
  },
  {
   "cell_type": "code",
   "execution_count": null,
   "source": [],
   "outputs": [],
   "metadata": {}
  }
 ],
 "metadata": {
  "orig_nbformat": 4,
  "language_info": {
   "name": "python",
   "version": "3.9.5",
   "mimetype": "text/x-python",
   "codemirror_mode": {
    "name": "ipython",
    "version": 3
   },
   "pygments_lexer": "ipython3",
   "nbconvert_exporter": "python",
   "file_extension": ".py"
  },
  "kernelspec": {
   "name": "python3",
   "display_name": "Python 3.9.5 64-bit ('machine_L': venv)"
  },
  "interpreter": {
   "hash": "62a490a61034db1e8b6e05e6e999b5629625384177f9d8186b44b788547d5428"
  }
 },
 "nbformat": 4,
 "nbformat_minor": 2
}