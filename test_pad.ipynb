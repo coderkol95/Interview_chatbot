{
 "cells": [
  {
   "cell_type": "markdown",
   "source": [
    "# Sending to multiple email IDS"
   ],
   "metadata": {}
  },
  {
   "cell_type": "code",
   "execution_count": 3,
   "source": [
    "import pandas as pd\r\n",
    "\r\n",
    "uploaded_excel = pd.read_csv(r\"C:/Users/ADMIN/Documents/Codebase/Interview_chatbot/format.csv\")\r\n"
   ],
   "outputs": [
    {
     "output_type": "stream",
     "name": "stderr",
     "text": [
      "c:\\Users\\ADMIN\\Documents\\Codebase\\envs\\machine_L\\lib\\site-packages\\numpy\\_distributor_init.py:30: UserWarning: loaded more than 1 DLL from .libs:\n",
      "c:\\Users\\ADMIN\\Documents\\Codebase\\envs\\machine_L\\lib\\site-packages\\numpy\\.libs\\libopenblas.GK7GX5KEQ4F6UYO3P26ULGBQYHGQO7J4.gfortran-win_amd64.dll\n",
      "c:\\Users\\ADMIN\\Documents\\Codebase\\envs\\machine_L\\lib\\site-packages\\numpy\\.libs\\libopenblas.XWYDX2IKJW2NMTWSFYNGFUWKQU3LYTCZ.gfortran-win_amd64.dll\n",
      "  warnings.warn(\"loaded more than 1 DLL from .libs:\"\n"
     ]
    }
   ],
   "metadata": {}
  },
  {
   "cell_type": "code",
   "execution_count": 2,
   "source": [
    "def formatter(dataf):\r\n",
    "    dataf.fillna('No', inplace=True)\r\n",
    "    for i in range(len(dataf)):\r\n",
    "        for col in dataf.columns[1:]:\r\n",
    "            dataf[col][i] = col if dataf[col][i]=='Yes' else ''\r\n",
    "    emails = dataf.Email.tolist()\r\n",
    "    topics={}\r\n",
    "    for i in range(dataf.shape[0]):\r\n",
    "        topics[emails[i]]=[x for x in dataf.iloc[i].tolist()[1:] if x!='']\r\n",
    "    return emails, topics"
   ],
   "outputs": [],
   "metadata": {}
  },
  {
   "cell_type": "code",
   "execution_count": 4,
   "source": [
    "em, tp = formatter(uploaded_excel)"
   ],
   "outputs": [],
   "metadata": {}
  },
  {
   "cell_type": "code",
   "execution_count": 5,
   "source": [
    "tp"
   ],
   "outputs": [
    {
     "output_type": "execute_result",
     "data": {
      "text/plain": [
       "{'anupam.misra@praxis.ac.in': ['Statistics', 'SVM', 'Naïve Bayes'],\n",
       " 'shahrukh.gouhar@praxis.ac.in': ['Statistics',\n",
       "  'Linear Regression',\n",
       "  'Logistic Regression'],\n",
       " 'radha.rathore@praxis.ac.in': ['Statistics', 'Decision Tree'],\n",
       " 'mansoor.ali.shaik@praxis.ac.in': ['Statistics', 'KNN', 'Kmeans']}"
      ]
     },
     "metadata": {},
     "execution_count": 5
    }
   ],
   "metadata": {}
  },
  {
   "cell_type": "code",
   "execution_count": 6,
   "source": [
    "em"
   ],
   "outputs": [
    {
     "output_type": "execute_result",
     "data": {
      "text/plain": [
       "['anupam.misra@praxis.ac.in',\n",
       " 'shahrukh.gouhar@praxis.ac.in',\n",
       " 'radha.rathore@praxis.ac.in',\n",
       " 'mansoor.ali.shaik@praxis.ac.in']"
      ]
     },
     "metadata": {},
     "execution_count": 6
    }
   ],
   "metadata": {}
  },
  {
   "cell_type": "markdown",
   "source": [
    "# DB work"
   ],
   "metadata": {}
  },
  {
   "cell_type": "code",
   "execution_count": 13,
   "source": [
    "import MySQLdb\r\n",
    "hostName = 'db4free.net'      \r\n",
    "userName = 'udreedbczu'          \r\n",
    "passWord = 'ezcb9vazqz'           \r\n",
    "dbName =  userName                \r\n",
    "DBConn= MySQLdb.connect(hostName,userName,passWord,dbName)\r\n",
    "def runCMD (DDL):\r\n",
    "    DBConn= MySQLdb.connect(hostName,userName,passWord,dbName)\r\n",
    "    myCursor = DBConn.cursor()\r\n",
    "    retcode = myCursor.execute(DDL) \r\n",
    "    print (retcode)\r\n",
    "    DBConn.commit()\r\n",
    "    DBConn.close()\r\n",
    "\r\n",
    "def runSELECT (CMD):\r\n",
    "    DBConn= MySQLdb.connect(hostName,userName,passWord,dbName)\r\n",
    "    df_mysql = pd.read_sql(CMD, con=DBConn)    \r\n",
    "    DBConn.close()\r\n",
    "    return df_mysql\r\n",
    "\r\n",
    "def r(msg):\r\n",
    "    if msg[0:6]==\"SELECT\" or msg[0:6]==\"select\":\r\n",
    "        return runSELECT(msg)\r\n",
    "    else:\r\n",
    "        runCMD(msg)"
   ],
   "outputs": [],
   "metadata": {}
  },
  {
   "cell_type": "code",
   "execution_count": 8,
   "source": [
    "# Client side; To store logins and their respective topics\r\n",
    "emailt='anupam@gmail'\r\n",
    "topics_for_printing='KNN, Decision Tree, SVM'\r\n",
    "r(f'INSERT into aspirant_topics(login,topics) VALUES (\"{emailt}\",\"{topics_for_printing}\")')"
   ],
   "outputs": [
    {
     "output_type": "stream",
     "name": "stdout",
     "text": [
      "1\n"
     ]
    }
   ],
   "metadata": {}
  },
  {
   "cell_type": "code",
   "execution_count": 12,
   "source": [
    "r(f\"select * from aspirant_topics\")"
   ],
   "outputs": [
    {
     "output_type": "execute_result",
     "data": {
      "text/html": [
       "<div>\n",
       "<style scoped>\n",
       "    .dataframe tbody tr th:only-of-type {\n",
       "        vertical-align: middle;\n",
       "    }\n",
       "\n",
       "    .dataframe tbody tr th {\n",
       "        vertical-align: top;\n",
       "    }\n",
       "\n",
       "    .dataframe thead th {\n",
       "        text-align: right;\n",
       "    }\n",
       "</style>\n",
       "<table border=\"1\" class=\"dataframe\">\n",
       "  <thead>\n",
       "    <tr style=\"text-align: right;\">\n",
       "      <th></th>\n",
       "      <th>login</th>\n",
       "      <th>topics</th>\n",
       "    </tr>\n",
       "  </thead>\n",
       "  <tbody>\n",
       "    <tr>\n",
       "      <th>0</th>\n",
       "      <td>anupam@gmail</td>\n",
       "      <td>KNN, Decision Tree, SVM</td>\n",
       "    </tr>\n",
       "    <tr>\n",
       "      <th>1</th>\n",
       "      <td>anupam@praxi.com</td>\n",
       "      <td>Statistics, Naive Bayes</td>\n",
       "    </tr>\n",
       "    <tr>\n",
       "      <th>2</th>\n",
       "      <td>anupam.misra@praxis.ac.in</td>\n",
       "      <td>Statistics, Linear Regression, Logistic Regres...</td>\n",
       "    </tr>\n",
       "  </tbody>\n",
       "</table>\n",
       "</div>"
      ],
      "text/plain": [
       "                       login  \\\n",
       "0               anupam@gmail   \n",
       "1           anupam@praxi.com   \n",
       "2  anupam.misra@praxis.ac.in   \n",
       "\n",
       "                                              topics  \n",
       "0                            KNN, Decision Tree, SVM  \n",
       "1                            Statistics, Naive Bayes  \n",
       "2  Statistics, Linear Regression, Logistic Regres...  "
      ]
     },
     "metadata": {},
     "execution_count": 12
    }
   ],
   "metadata": {}
  },
  {
   "cell_type": "code",
   "execution_count": 14,
   "source": [
    "# Aspirant side; To obtain topics for a particular login\r\n",
    "import pandas as pd\r\n",
    "login_provided_by_aspirant = 'anupam.misra@praxis.ac.in'\r\n",
    "\r\n",
    "r(f\"select topics from aspirant_topics where login='{login_provided_by_aspirant}'\").iloc[0,0]"
   ],
   "outputs": [
    {
     "output_type": "execute_result",
     "data": {
      "text/plain": [
       "'Statistics, Linear Regression, Logistic Regression, KNN'"
      ]
     },
     "metadata": {},
     "execution_count": 14
    }
   ],
   "metadata": {}
  },
  {
   "cell_type": "code",
   "execution_count": null,
   "source": [],
   "outputs": [],
   "metadata": {}
  }
 ],
 "metadata": {
  "orig_nbformat": 4,
  "language_info": {
   "name": "python",
   "version": "3.9.5",
   "mimetype": "text/x-python",
   "codemirror_mode": {
    "name": "ipython",
    "version": 3
   },
   "pygments_lexer": "ipython3",
   "nbconvert_exporter": "python",
   "file_extension": ".py"
  },
  "kernelspec": {
   "name": "python3",
   "display_name": "Python 3.9.5 64-bit ('interview_chatbot': venv)"
  },
  "interpreter": {
   "hash": "ecab1c3ed960d3fe088e3bb9feccacce4bcce3e681f9958ab6e8698e5c063f07"
  }
 },
 "nbformat": 4,
 "nbformat_minor": 2
}